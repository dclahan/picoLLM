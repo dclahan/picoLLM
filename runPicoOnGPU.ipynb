{
  "cells": [
    {
      "cell_type": "markdown",
      "metadata": {
        "id": "3TwYzMg5F0n8"
      },
      "source": [
        "## training on google colab GPU\n",
        "\n",
        "- switch runtime to GPU\n",
        "- clone repo\n",
        "- run a GPU sanity test\n",
        "- write model to drive\n",
        "- can read from drive with `model.load_state_dict(torch.load($PATH, weights_only=True))`"
      ]
    },
    {
      "cell_type": "markdown",
      "metadata": {
        "id": "DyZcK5F7CeUJ"
      },
      "source": [
        "check to see if gpu is spun up"
      ]
    },
    {
      "cell_type": "code",
      "execution_count": 1,
      "metadata": {
        "colab": {
          "base_uri": "https://localhost:8080/"
        },
        "collapsed": true,
        "id": "ZZoxSjADAa3C",
        "outputId": "01ba1a1b-9ea1-4c7d-9c1c-6c1d7f18072e"
      },
      "outputs": [
        {
          "name": "stdout",
          "output_type": "stream",
          "text": [
            "Sun Apr 27 20:36:26 2025       \n",
            "+-----------------------------------------------------------------------------------------+\n",
            "| NVIDIA-SMI 550.54.15              Driver Version: 550.54.15      CUDA Version: 12.4     |\n",
            "|-----------------------------------------+------------------------+----------------------+\n",
            "| GPU  Name                 Persistence-M | Bus-Id          Disp.A | Volatile Uncorr. ECC |\n",
            "| Fan  Temp   Perf          Pwr:Usage/Cap |           Memory-Usage | GPU-Util  Compute M. |\n",
            "|                                         |                        |               MIG M. |\n",
            "|=========================================+========================+======================|\n",
            "|   0  Tesla T4                       Off |   00000000:00:04.0 Off |                    0 |\n",
            "| N/A   38C    P8              9W /   70W |       0MiB /  15360MiB |      0%      Default |\n",
            "|                                         |                        |                  N/A |\n",
            "+-----------------------------------------+------------------------+----------------------+\n",
            "                                                                                         \n",
            "+-----------------------------------------------------------------------------------------+\n",
            "| Processes:                                                                              |\n",
            "|  GPU   GI   CI        PID   Type   Process name                              GPU Memory |\n",
            "|        ID   ID                                                               Usage      |\n",
            "|=========================================================================================|\n",
            "|  No running processes found                                                             |\n",
            "+-----------------------------------------------------------------------------------------+\n"
          ]
        }
      ],
      "source": [
        "!nvidia-smi"
      ]
    },
    {
      "cell_type": "markdown",
      "metadata": {
        "id": "a8xXOAF6Cj_K"
      },
      "source": [
        "connect to google drive to save model"
      ]
    },
    {
      "cell_type": "code",
      "execution_count": 2,
      "metadata": {
        "colab": {
          "base_uri": "https://localhost:8080/"
        },
        "id": "7vRuTEmeq9we",
        "outputId": "bd54accc-2479-47f0-9cb2-bf3a45e1fc25"
      },
      "outputs": [
        {
          "name": "stdout",
          "output_type": "stream",
          "text": [
            "Drive already mounted at /content/drive; to attempt to forcibly remount, call drive.mount(\"/content/drive\", force_remount=True).\n"
          ]
        }
      ],
      "source": [
        "from google.colab import drive\n",
        "drive.mount('/content/drive')"
      ]
    },
    {
      "cell_type": "markdown",
      "metadata": {
        "id": "4M7RvFrCCroM"
      },
      "source": [
        "clone the repo and install dependencies"
      ]
    },
    {
      "cell_type": "code",
      "execution_count": null,
      "metadata": {
        "id": "33BDihda9Ptc"
      },
      "outputs": [],
      "source": [
        "!git clone https://github.com/sncr0/picoLLM.git"
      ]
    },
    {
      "cell_type": "code",
      "execution_count": 5,
      "metadata": {
        "colab": {
          "base_uri": "https://localhost:8080/"
        },
        "collapsed": true,
        "id": "htJc_FcaIrj9",
        "outputId": "0f275075-906c-4f8e-d7dc-7533d927b177"
      },
      "outputs": [
        {
          "name": "stdout",
          "output_type": "stream",
          "text": [
            "Requirement already satisfied: datasets==3.5.0 in /usr/local/lib/python3.11/dist-packages (from -r picoLLM/requirements.txt (line 1)) (3.5.0)\n",
            "Requirement already satisfied: pip==25.0.1 in /usr/local/lib/python3.11/dist-packages (from -r picoLLM/requirements.txt (line 2)) (25.0.1)\n",
            "Requirement already satisfied: setuptools==78.1.0 in /usr/local/lib/python3.11/dist-packages (from -r picoLLM/requirements.txt (line 3)) (78.1.0)\n",
            "Requirement already satisfied: tiktoken==0.9.0 in /usr/local/lib/python3.11/dist-packages (from -r picoLLM/requirements.txt (line 4)) (0.9.0)\n",
            "Requirement already satisfied: torch==2.6.0 in /usr/local/lib/python3.11/dist-packages (from -r picoLLM/requirements.txt (line 5)) (2.6.0+cu124)\n",
            "Requirement already satisfied: wheel==0.45.1 in /usr/local/lib/python3.11/dist-packages (from -r picoLLM/requirements.txt (line 6)) (0.45.1)\n",
            "Requirement already satisfied: matplotlib==3.10.1 in /usr/local/lib/python3.11/dist-packages (from -r picoLLM/requirements.txt (line 7)) (3.10.1)\n",
            "Requirement already satisfied: filelock in /usr/local/lib/python3.11/dist-packages (from datasets==3.5.0->-r picoLLM/requirements.txt (line 1)) (3.18.0)\n",
            "Requirement already satisfied: numpy>=1.17 in /usr/local/lib/python3.11/dist-packages (from datasets==3.5.0->-r picoLLM/requirements.txt (line 1)) (2.0.2)\n",
            "Requirement already satisfied: pyarrow>=15.0.0 in /usr/local/lib/python3.11/dist-packages (from datasets==3.5.0->-r picoLLM/requirements.txt (line 1)) (18.1.0)\n",
            "Requirement already satisfied: dill<0.3.9,>=0.3.0 in /usr/local/lib/python3.11/dist-packages (from datasets==3.5.0->-r picoLLM/requirements.txt (line 1)) (0.3.8)\n",
            "Requirement already satisfied: pandas in /usr/local/lib/python3.11/dist-packages (from datasets==3.5.0->-r picoLLM/requirements.txt (line 1)) (2.2.2)\n",
            "Requirement already satisfied: requests>=2.32.2 in /usr/local/lib/python3.11/dist-packages (from datasets==3.5.0->-r picoLLM/requirements.txt (line 1)) (2.32.3)\n",
            "Requirement already satisfied: tqdm>=4.66.3 in /usr/local/lib/python3.11/dist-packages (from datasets==3.5.0->-r picoLLM/requirements.txt (line 1)) (4.67.1)\n",
            "Requirement already satisfied: xxhash in /usr/local/lib/python3.11/dist-packages (from datasets==3.5.0->-r picoLLM/requirements.txt (line 1)) (3.5.0)\n",
            "Requirement already satisfied: multiprocess<0.70.17 in /usr/local/lib/python3.11/dist-packages (from datasets==3.5.0->-r picoLLM/requirements.txt (line 1)) (0.70.16)\n",
            "Requirement already satisfied: fsspec<=2024.12.0,>=2023.1.0 in /usr/local/lib/python3.11/dist-packages (from fsspec[http]<=2024.12.0,>=2023.1.0->datasets==3.5.0->-r picoLLM/requirements.txt (line 1)) (2024.12.0)\n",
            "Requirement already satisfied: aiohttp in /usr/local/lib/python3.11/dist-packages (from datasets==3.5.0->-r picoLLM/requirements.txt (line 1)) (3.11.15)\n",
            "Requirement already satisfied: huggingface-hub>=0.24.0 in /usr/local/lib/python3.11/dist-packages (from datasets==3.5.0->-r picoLLM/requirements.txt (line 1)) (0.30.2)\n",
            "Requirement already satisfied: packaging in /usr/local/lib/python3.11/dist-packages (from datasets==3.5.0->-r picoLLM/requirements.txt (line 1)) (24.2)\n",
            "Requirement already satisfied: pyyaml>=5.1 in /usr/local/lib/python3.11/dist-packages (from datasets==3.5.0->-r picoLLM/requirements.txt (line 1)) (6.0.2)\n",
            "Requirement already satisfied: regex>=2022.1.18 in /usr/local/lib/python3.11/dist-packages (from tiktoken==0.9.0->-r picoLLM/requirements.txt (line 4)) (2024.11.6)\n",
            "Requirement already satisfied: typing-extensions>=4.10.0 in /usr/local/lib/python3.11/dist-packages (from torch==2.6.0->-r picoLLM/requirements.txt (line 5)) (4.13.2)\n",
            "Requirement already satisfied: networkx in /usr/local/lib/python3.11/dist-packages (from torch==2.6.0->-r picoLLM/requirements.txt (line 5)) (3.4.2)\n",
            "Requirement already satisfied: jinja2 in /usr/local/lib/python3.11/dist-packages (from torch==2.6.0->-r picoLLM/requirements.txt (line 5)) (3.1.6)\n",
            "Requirement already satisfied: nvidia-cuda-nvrtc-cu12==12.4.127 in /usr/local/lib/python3.11/dist-packages (from torch==2.6.0->-r picoLLM/requirements.txt (line 5)) (12.4.127)\n",
            "Requirement already satisfied: nvidia-cuda-runtime-cu12==12.4.127 in /usr/local/lib/python3.11/dist-packages (from torch==2.6.0->-r picoLLM/requirements.txt (line 5)) (12.4.127)\n",
            "Requirement already satisfied: nvidia-cuda-cupti-cu12==12.4.127 in /usr/local/lib/python3.11/dist-packages (from torch==2.6.0->-r picoLLM/requirements.txt (line 5)) (12.4.127)\n",
            "Requirement already satisfied: nvidia-cudnn-cu12==9.1.0.70 in /usr/local/lib/python3.11/dist-packages (from torch==2.6.0->-r picoLLM/requirements.txt (line 5)) (9.1.0.70)\n",
            "Requirement already satisfied: nvidia-cublas-cu12==12.4.5.8 in /usr/local/lib/python3.11/dist-packages (from torch==2.6.0->-r picoLLM/requirements.txt (line 5)) (12.4.5.8)\n",
            "Requirement already satisfied: nvidia-cufft-cu12==11.2.1.3 in /usr/local/lib/python3.11/dist-packages (from torch==2.6.0->-r picoLLM/requirements.txt (line 5)) (11.2.1.3)\n",
            "Requirement already satisfied: nvidia-curand-cu12==10.3.5.147 in /usr/local/lib/python3.11/dist-packages (from torch==2.6.0->-r picoLLM/requirements.txt (line 5)) (10.3.5.147)\n",
            "Requirement already satisfied: nvidia-cusolver-cu12==11.6.1.9 in /usr/local/lib/python3.11/dist-packages (from torch==2.6.0->-r picoLLM/requirements.txt (line 5)) (11.6.1.9)\n",
            "Requirement already satisfied: nvidia-cusparse-cu12==12.3.1.170 in /usr/local/lib/python3.11/dist-packages (from torch==2.6.0->-r picoLLM/requirements.txt (line 5)) (12.3.1.170)\n",
            "Requirement already satisfied: nvidia-cusparselt-cu12==0.6.2 in /usr/local/lib/python3.11/dist-packages (from torch==2.6.0->-r picoLLM/requirements.txt (line 5)) (0.6.2)\n",
            "Requirement already satisfied: nvidia-nccl-cu12==2.21.5 in /usr/local/lib/python3.11/dist-packages (from torch==2.6.0->-r picoLLM/requirements.txt (line 5)) (2.21.5)\n",
            "Requirement already satisfied: nvidia-nvtx-cu12==12.4.127 in /usr/local/lib/python3.11/dist-packages (from torch==2.6.0->-r picoLLM/requirements.txt (line 5)) (12.4.127)\n",
            "Requirement already satisfied: nvidia-nvjitlink-cu12==12.4.127 in /usr/local/lib/python3.11/dist-packages (from torch==2.6.0->-r picoLLM/requirements.txt (line 5)) (12.4.127)\n",
            "Requirement already satisfied: triton==3.2.0 in /usr/local/lib/python3.11/dist-packages (from torch==2.6.0->-r picoLLM/requirements.txt (line 5)) (3.2.0)\n",
            "Requirement already satisfied: sympy==1.13.1 in /usr/local/lib/python3.11/dist-packages (from torch==2.6.0->-r picoLLM/requirements.txt (line 5)) (1.13.1)\n",
            "Requirement already satisfied: contourpy>=1.0.1 in /usr/local/lib/python3.11/dist-packages (from matplotlib==3.10.1->-r picoLLM/requirements.txt (line 7)) (1.3.2)\n",
            "Requirement already satisfied: cycler>=0.10 in /usr/local/lib/python3.11/dist-packages (from matplotlib==3.10.1->-r picoLLM/requirements.txt (line 7)) (0.12.1)\n",
            "Requirement already satisfied: fonttools>=4.22.0 in /usr/local/lib/python3.11/dist-packages (from matplotlib==3.10.1->-r picoLLM/requirements.txt (line 7)) (4.57.0)\n",
            "Requirement already satisfied: kiwisolver>=1.3.1 in /usr/local/lib/python3.11/dist-packages (from matplotlib==3.10.1->-r picoLLM/requirements.txt (line 7)) (1.4.8)\n",
            "Requirement already satisfied: pillow>=8 in /usr/local/lib/python3.11/dist-packages (from matplotlib==3.10.1->-r picoLLM/requirements.txt (line 7)) (11.1.0)\n",
            "Requirement already satisfied: pyparsing>=2.3.1 in /usr/local/lib/python3.11/dist-packages (from matplotlib==3.10.1->-r picoLLM/requirements.txt (line 7)) (3.2.3)\n",
            "Requirement already satisfied: python-dateutil>=2.7 in /usr/local/lib/python3.11/dist-packages (from matplotlib==3.10.1->-r picoLLM/requirements.txt (line 7)) (2.8.2)\n",
            "Requirement already satisfied: mpmath<1.4,>=1.1.0 in /usr/local/lib/python3.11/dist-packages (from sympy==1.13.1->torch==2.6.0->-r picoLLM/requirements.txt (line 5)) (1.3.0)\n",
            "Requirement already satisfied: aiohappyeyeballs>=2.3.0 in /usr/local/lib/python3.11/dist-packages (from aiohttp->datasets==3.5.0->-r picoLLM/requirements.txt (line 1)) (2.6.1)\n",
            "Requirement already satisfied: aiosignal>=1.1.2 in /usr/local/lib/python3.11/dist-packages (from aiohttp->datasets==3.5.0->-r picoLLM/requirements.txt (line 1)) (1.3.2)\n",
            "Requirement already satisfied: attrs>=17.3.0 in /usr/local/lib/python3.11/dist-packages (from aiohttp->datasets==3.5.0->-r picoLLM/requirements.txt (line 1)) (25.3.0)\n",
            "Requirement already satisfied: frozenlist>=1.1.1 in /usr/local/lib/python3.11/dist-packages (from aiohttp->datasets==3.5.0->-r picoLLM/requirements.txt (line 1)) (1.6.0)\n",
            "Requirement already satisfied: multidict<7.0,>=4.5 in /usr/local/lib/python3.11/dist-packages (from aiohttp->datasets==3.5.0->-r picoLLM/requirements.txt (line 1)) (6.4.3)\n",
            "Requirement already satisfied: propcache>=0.2.0 in /usr/local/lib/python3.11/dist-packages (from aiohttp->datasets==3.5.0->-r picoLLM/requirements.txt (line 1)) (0.3.1)\n",
            "Requirement already satisfied: yarl<2.0,>=1.17.0 in /usr/local/lib/python3.11/dist-packages (from aiohttp->datasets==3.5.0->-r picoLLM/requirements.txt (line 1)) (1.20.0)\n",
            "Requirement already satisfied: six>=1.5 in /usr/local/lib/python3.11/dist-packages (from python-dateutil>=2.7->matplotlib==3.10.1->-r picoLLM/requirements.txt (line 7)) (1.17.0)\n",
            "Requirement already satisfied: charset-normalizer<4,>=2 in /usr/local/lib/python3.11/dist-packages (from requests>=2.32.2->datasets==3.5.0->-r picoLLM/requirements.txt (line 1)) (3.4.1)\n",
            "Requirement already satisfied: idna<4,>=2.5 in /usr/local/lib/python3.11/dist-packages (from requests>=2.32.2->datasets==3.5.0->-r picoLLM/requirements.txt (line 1)) (3.10)\n",
            "Requirement already satisfied: urllib3<3,>=1.21.1 in /usr/local/lib/python3.11/dist-packages (from requests>=2.32.2->datasets==3.5.0->-r picoLLM/requirements.txt (line 1)) (2.3.0)\n",
            "Requirement already satisfied: certifi>=2017.4.17 in /usr/local/lib/python3.11/dist-packages (from requests>=2.32.2->datasets==3.5.0->-r picoLLM/requirements.txt (line 1)) (2025.1.31)\n",
            "Requirement already satisfied: MarkupSafe>=2.0 in /usr/local/lib/python3.11/dist-packages (from jinja2->torch==2.6.0->-r picoLLM/requirements.txt (line 5)) (3.0.2)\n",
            "Requirement already satisfied: pytz>=2020.1 in /usr/local/lib/python3.11/dist-packages (from pandas->datasets==3.5.0->-r picoLLM/requirements.txt (line 1)) (2025.2)\n",
            "Requirement already satisfied: tzdata>=2022.7 in /usr/local/lib/python3.11/dist-packages (from pandas->datasets==3.5.0->-r picoLLM/requirements.txt (line 1)) (2025.2)\n"
          ]
        }
      ],
      "source": [
        "!pip install -r picoLLM/requirements.txt"
      ]
    },
    {
      "cell_type": "markdown",
      "metadata": {
        "id": "ROJROPXzCxeA"
      },
      "source": [
        "train model\n",
        "- on large datasets, >5 epochs still takes a while, watch out for getting rate-limited\n",
        "  - colab IP-banned me from using GPU for the next couple of days 🙃"
      ]
    },
    {
      "cell_type": "code",
      "execution_count": null,
      "metadata": {
        "colab": {
          "base_uri": "https://localhost:8080/"
        },
        "id": "IYw2lVZwJS7k",
        "outputId": "4a470809-afeb-4ba9-a3dd-8f17702d1aa6"
      },
      "outputs": [
        {
          "name": "stdout",
          "output_type": "stream",
          "text": [
            "Using device: cuda:0, block_size=1024, kgram_k=3, chunk_size=1, embed_size=1024\n",
            "Vocab size: 50257\n",
            "TinyStories weight=0 => skipping TinyStories.\n",
            "Reading custom text file: picoLLM/3seqs.txt\n",
            "Custom input files: 3 sequences loaded.\n",
            "\n",
            "=== Training model: kvcache_transformer ===\n",
            "\n",
            "[kvcache_transformer] Generating sample text (greedy) at epoch=1, step=1...\n",
            " Greedy Sample: 0 1 2 3 4 6 8 10 12 14 16 18 20 22 24 26 28 30 32 34 36 38!2500 10\n",
            " Annotated: 0 1 2 3 4 6 8 10 12 14 16 18 20 22 24 26 28 30 32 34 36 38!2500 10\n",
            "\n",
            "[kvcache_transformer] Generating sample text (top-p=0.95) at epoch=1, step=1...\n",
            " Top-p (p=0.95) Sample: 0 1 2 3 4 previews cardinal Rao distractionpora DG untrue ravaged Tight PDF cellar prohibitingBruce Jr Cont petitionpopParts fires Herbert\n",
            " Annotated: 0 1 2 3 4 previews cardinal Rao distractionpora DG untrue ravaged Tight PDF cellar prohibitingBruce Jr Cont petitionpopParts fires Herbert\n",
            "\n",
            "[kvcache_transformer] Generating sample text (top-p=1.0) at epoch=1, step=1...\n",
            " Top-p (p=1.0) Sample: 0 1 2 3 4erve arrivingWednesdaydt ad tortured ---- obviously905opaplaying fing landing methyl confidentlyomi Kath ide Senators salon\n",
            " Annotated: 0 1 2 3 4erve arrivingWednesdaydt ad tortured ---- obviously905opaplaying fing landing methyl confidentlyomi Kath ide Senators salon\n",
            "\n",
            "[kvcache_transformer] *** End of Epoch 1 *** Avg Loss: 11.2179\n",
            "[kvcache_transformer] *** End of Epoch 2 *** Avg Loss: 7.6715\n",
            "[kvcache_transformer] *** End of Epoch 3 *** Avg Loss: 7.6668\n",
            "[kvcache_transformer] *** End of Epoch 4 *** Avg Loss: 6.0573\n",
            "[kvcache_transformer] Final sample (greedy) from prompt: '0 1 2 3 4'\n",
            "0 1 2 3 4 5 8 10 11 12 23 14 15 16 17 18 19 20 22 24 26 28 30 32 34 10 11 12 23 14 15 16 17 18 19 20 22 24 26 28 30 32 34 10 11\n",
            "Annotated:\n",
            "0 1 2 3 4 5 8 10 11 12 23 14 15 16 17 18 19 20 22 24 26 28 30 32 34 10 11 12 23 14 15 16 17 18 19 20 22 24 26 28 30 32 34 10 11\n",
            "\n",
            "[kvcache_transformer] Final sample (top-p=0.95) from prompt: '0 1 2 3 4'\n",
            "0 1 2 3 4 5 8 limp Unicorn 376 cor WHERE discrepancy earthquake 10 11 12 23 14 8 Mon Sub 18 19 20 22 24 26 28 pretended 3 involving underway �178enf reson pocketswithin rush Beach superiorsBox Sexy locating\n",
            "Annotated:\n",
            "0 1 2 3 4 5 8 limp Unicorn 376 cor WHERE discrepancy earthquake 10 11 12 23 14 8 Mon Sub 18 19 20 22 24 26 28 pretended 3 involving underway �178enf reson pocketswithin rush Beach superiorsBox Sexy locating\n",
            "\n",
            "[kvcache_transformer] Final sample (top-p=1.0) from prompt: '0 1 2 3 4'\n",
            "0 1 2 3 4 Solar cart409 Buch list Medieval 18 19 20 22 24 26 28 ape ll coli Helm 18 19 20 22 24 26 28 positionsVILLEsch convenience 34 18 19 20 22 24FactShin productions Cass 18 19\n",
            "Annotated:\n",
            "0 1 2 3 4 Solar cart409 Buch list Medieval 18 19 20 22 24 26 28 ape ll coli Helm 18 19 20 22 24 26 28 positionsVILLEsch convenience 34 18 19 20 22 24FactShin productions Cass 18 19\n",
            "--------------------------------------------------\n",
            "\n",
            "*** I'm feeling great today! Hope you're well, too. ***\n"
          ]
        }
      ],
      "source": [
        "!python picoLLM/main.py --tinystories_weight 0.0 --input picoLLM/files/3seqs.txt --prompt \"0 1 2 3 4\" --num_epochs 800 --n_heads=16 --n_blocks=12 --lr 0.0002 --debug_topk 3 --max_new_tokens 10"
      ]
    },
    {
      "cell_type": "markdown",
      "metadata": {
        "id": "g_ujwgB--zZx"
      },
      "source": [
        "Save results to google drive"
      ]
    },
    {
      "cell_type": "code",
      "execution_count": 7,
      "metadata": {
        "id": "EDq4_dQ0c7BK"
      },
      "outputs": [],
      "source": [
        "!cp -r /content/results /content/drive/MyDrive/"
      ]
    },
    {
      "cell_type": "code",
      "execution_count": null,
      "metadata": {
        "id": "wnHOVL-mDSAn"
      },
      "outputs": [],
      "source": []
    }
  ],
  "metadata": {
    "accelerator": "GPU",
    "colab": {
      "gpuType": "T4",
      "provenance": []
    },
    "kernelspec": {
      "display_name": "Python 3",
      "name": "python3"
    },
    "language_info": {
      "name": "python"
    }
  },
  "nbformat": 4,
  "nbformat_minor": 0
}
