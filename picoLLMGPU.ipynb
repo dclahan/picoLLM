{
  "nbformat": 4,
  "nbformat_minor": 0,
  "metadata": {
    "colab": {
      "provenance": [],
      "gpuType": "T4"
    },
    "kernelspec": {
      "name": "python3",
      "display_name": "Python 3"
    },
    "language_info": {
      "name": "python"
    },
    "accelerator": "GPU"
  },
  "cells": [
    {
      "cell_type": "markdown",
      "source": [
        "## training on google colab GPU\n",
        "\n",
        "- switch runtime to GPU\n",
        "- clone repo\n",
        "- run a GPU sanity test\n",
        "- write model out to drive\n",
        "- can read from drive with `model.load_state_dict(torch.load($PATH, weights_only=True))`"
      ],
      "metadata": {
        "id": "3TwYzMg5F0n8"
      }
    },
    {
      "cell_type": "markdown",
      "source": [
        "check to see if gpu is spun up"
      ],
      "metadata": {
        "id": "DyZcK5F7CeUJ"
      }
    },
    {
      "cell_type": "code",
      "execution_count": null,
      "metadata": {
        "collapsed": true,
        "id": "ZZoxSjADAa3C"
      },
      "outputs": [],
      "source": [
        "!nvidia-smi"
      ]
    },
    {
      "cell_type": "markdown",
      "source": [
        "connect to google drive to save model"
      ],
      "metadata": {
        "id": "a8xXOAF6Cj_K"
      }
    },
    {
      "cell_type": "code",
      "source": [
        "from google.colab import drive\n",
        "drive.mount('/content/drive')"
      ],
      "metadata": {
        "id": "7vRuTEmeq9we"
      },
      "execution_count": null,
      "outputs": []
    },
    {
      "cell_type": "markdown",
      "source": [
        "clone the repo and install dependencies"
      ],
      "metadata": {
        "id": "4M7RvFrCCroM"
      }
    },
    {
      "cell_type": "code",
      "source": [
        "!git clone https://github.com/sncr0/picoLLM.git"
      ],
      "metadata": {
        "id": "le2x6tFbGo9O"
      },
      "execution_count": null,
      "outputs": []
    },
    {
      "cell_type": "code",
      "source": [
        "!pip install -r picoLLM/requirements.txt"
      ],
      "metadata": {
        "collapsed": true,
        "id": "htJc_FcaIrj9"
      },
      "execution_count": null,
      "outputs": []
    },
    {
      "cell_type": "markdown",
      "source": [
        "train model (on large datasets, <5 epochs still takes a while, watch for for getting rate-limited)"
      ],
      "metadata": {
        "id": "ROJROPXzCxeA"
      }
    },
    {
      "cell_type": "code",
      "source": [
        "!python picoLLM/main.py --tinystories_weight 0.0 --num_epochs 3 --input_files 3seqs.txt --prompt \"1 2 3 4\""
      ],
      "metadata": {
        "id": "IYw2lVZwJS7k"
      },
      "execution_count": null,
      "outputs": []
    },
    {
      "cell_type": "code",
      "source": [
        "!cp -r /content/results /content/drive/MyDrive/"
      ],
      "metadata": {
        "id": "EDq4_dQ0c7BK"
      },
      "execution_count": null,
      "outputs": []
    },
    {
      "cell_type": "code",
      "source": [],
      "metadata": {
        "id": "wnHOVL-mDSAn"
      },
      "execution_count": null,
      "outputs": []
    }
  ]
}