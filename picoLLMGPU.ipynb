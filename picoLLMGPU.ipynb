{
  "cells": [
    {
      "cell_type": "markdown",
      "metadata": {
        "id": "3TwYzMg5F0n8"
      },
      "source": [
        "## training on google colab GPU\n",
        "\n",
        "- switch runtime to GPU\n",
        "- clone repo\n",
        "- run a GPU sanity test\n",
        "- write model out to drive\n",
        "- can read from drive with `model.load_state_dict(torch.load($PATH, weights_only=True))`"
      ]
    },
    {
      "cell_type": "markdown",
      "metadata": {
        "id": "DyZcK5F7CeUJ"
      },
      "source": [
        "check to see if gpu is spun up"
      ]
    },
    {
      "cell_type": "code",
      "execution_count": null,
      "metadata": {
        "collapsed": true,
        "id": "ZZoxSjADAa3C"
      },
      "outputs": [],
      "source": [
        "!nvidia-smi"
      ]
    },
    {
      "cell_type": "markdown",
      "metadata": {
        "id": "a8xXOAF6Cj_K"
      },
      "source": [
        "connect to google drive to save model"
      ]
    },
    {
      "cell_type": "code",
      "execution_count": null,
      "metadata": {
        "id": "7vRuTEmeq9we"
      },
      "outputs": [],
      "source": [
        "from google.colab import drive\n",
        "drive.mount('/content/drive')"
      ]
    },
    {
      "cell_type": "markdown",
      "metadata": {
        "id": "4M7RvFrCCroM"
      },
      "source": [
        "clone the repo and install dependencies"
      ]
    },
    {
      "cell_type": "code",
      "execution_count": null,
      "metadata": {
        "id": "le2x6tFbGo9O"
      },
      "outputs": [],
      "source": [
        "!git clone https://github.com/sncr0/picoLLM.git"
      ]
    },
    {
      "cell_type": "code",
      "execution_count": null,
      "metadata": {
        "collapsed": true,
        "id": "htJc_FcaIrj9"
      },
      "outputs": [],
      "source": [
        "!pip install -r picoLLM/requirements.txt"
      ]
    },
    {
      "cell_type": "markdown",
      "metadata": {
        "id": "ROJROPXzCxeA"
      },
      "source": [
        "train model (on large datasets, <5 epochs still takes a while, watch for for getting rate-limited)"
      ]
    },
    {
      "cell_type": "code",
      "execution_count": null,
      "metadata": {
        "id": "IYw2lVZwJS7k"
      },
      "outputs": [],
      "source": [
        "!python picoLLM/main.py --tinystories_weight 0.0 --num_epochs 3 --save_model 1 --input_files 3seqs.txt --prompt \"1 2 3 4\""
      ]
    },
    {
      "cell_type": "code",
      "execution_count": null,
      "metadata": {
        "id": "EDq4_dQ0c7BK"
      },
      "outputs": [],
      "source": [
        "!cp -r /content/results /content/drive/MyDrive/"
      ]
    },
    {
      "cell_type": "code",
      "execution_count": null,
      "metadata": {
        "id": "wnHOVL-mDSAn"
      },
      "outputs": [],
      "source": []
    }
  ],
  "metadata": {
    "accelerator": "GPU",
    "colab": {
      "gpuType": "T4",
      "provenance": []
    },
    "kernelspec": {
      "display_name": "Python 3",
      "name": "python3"
    },
    "language_info": {
      "name": "python"
    }
  },
  "nbformat": 4,
  "nbformat_minor": 0
}
